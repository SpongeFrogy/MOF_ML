{
  "cells": [
    {
      "cell_type": "code",
      "execution_count": 1,
      "metadata": {
        "id": "QzEQep1P6FEK"
      },
      "outputs": [],
      "source": [
        "# Install Comet ML for automatically save each iteration of model. In future you\n",
        "# can analyse all of them, choose the best and recover code and paremeters after \n",
        "# time \n",
        "\n",
        "# pip install comet_ml\n"
      ]
    },
    {
      "cell_type": "markdown",
      "metadata": {
        "id": "-X2sy2f3yaWH"
      },
      "source": [
        "#Часть с кодом обработки данных "
      ]
    },
    {
      "cell_type": "markdown",
      "metadata": {
        "id": "bdOrRdBFhfMe"
      },
      "source": [
        "(07.03.23) Подготовка данных для нейронки, которую прислал Гриша из .cif файлов COD database и предварительно обработанных в MofID и в нашем скрипте"
      ]
    },
    {
      "cell_type": "code",
      "execution_count": 1,
      "metadata": {
        "id": "HN0XkG7cMcp0"
      },
      "outputs": [],
      "source": [
        "import pandas as pd "
      ]
    },
    {
      "cell_type": "code",
      "execution_count": 2,
      "metadata": {
        "colab": {
          "base_uri": "https://localhost:8080/",
          "height": 696
        },
        "id": "b2qEyO3MlUY5",
        "outputId": "5afd4bbd-bf59-41b6-f632-38a96342057d"
      },
      "outputs": [
        {
          "data": {
            "text/html": [
              "<div>\n",
              "<style scoped>\n",
              "    .dataframe tbody tr th:only-of-type {\n",
              "        vertical-align: middle;\n",
              "    }\n",
              "\n",
              "    .dataframe tbody tr th {\n",
              "        vertical-align: top;\n",
              "    }\n",
              "\n",
              "    .dataframe thead th {\n",
              "        text-align: right;\n",
              "    }\n",
              "</style>\n",
              "<table border=\"1\" class=\"dataframe\">\n",
              "  <thead>\n",
              "    <tr style=\"text-align: right;\">\n",
              "      <th></th>\n",
              "      <th>cifname</th>\n",
              "      <th>mofid</th>\n",
              "      <th>mofkey</th>\n",
              "      <th>simples_nodes</th>\n",
              "      <th>simples_linkers</th>\n",
              "      <th>simples</th>\n",
              "      <th>topology</th>\n",
              "      <th>cat</th>\n",
              "      <th>a</th>\n",
              "      <th>b</th>\n",
              "      <th>c</th>\n",
              "      <th>alpha</th>\n",
              "      <th>beta</th>\n",
              "      <th>gamma</th>\n",
              "      <th>cell volume</th>\n",
              "      <th>space group</th>\n",
              "    </tr>\n",
              "  </thead>\n",
              "  <tbody>\n",
              "    <tr>\n",
              "      <th>0</th>\n",
              "      <td>1100140</td>\n",
              "      <td>Cl[Cu]O[Cu]O[Cu]Cl.O=[C]1=NC=CC=N1.n1ccc(cc1)c...</td>\n",
              "      <td>Cu.BSACTHHIMKWVLX.MWVTWFVJZLCBMC.MOFkey-v1.hxl</td>\n",
              "      <td>['Cl[Cu]O[Cu]O[Cu]Cl']</td>\n",
              "      <td>['O=[C]1=NC=CC=N1', 'n1ccc(cc1)c1ccncc1']</td>\n",
              "      <td>Cl[Cu]O[Cu]O[Cu]Cl.O=[C]1=NC=CC=N1.n1ccc(cc1)c...</td>\n",
              "      <td>hxl</td>\n",
              "      <td>1.0</td>\n",
              "      <td>17.0760</td>\n",
              "      <td>19.3410</td>\n",
              "      <td>13.4810</td>\n",
              "      <td>90.00</td>\n",
              "      <td>90.000</td>\n",
              "      <td>90.000</td>\n",
              "      <td>4452.30</td>\n",
              "      <td>P 2 -2n</td>\n",
              "    </tr>\n",
              "    <tr>\n",
              "      <th>1</th>\n",
              "      <td>1100722</td>\n",
              "      <td>[Fe][O]([Fe])[Fe].[O-]C(=O)c1ccc(cc1)C(=O)[O-]...</td>\n",
              "      <td>Fe.KKEYFWRCBNTPAC.MOFkey-v1.acs</td>\n",
              "      <td>['[Fe][O]([Fe])[Fe]']</td>\n",
              "      <td>['[O-]C(=O)c1ccc(cc1)C(=O)[O-]']</td>\n",
              "      <td>[Fe][O]([Fe])[Fe].[O-]C(=O)c1ccc(cc1)C(=O)[O-]</td>\n",
              "      <td>acs</td>\n",
              "      <td>0.0</td>\n",
              "      <td>12.5310</td>\n",
              "      <td>12.5310</td>\n",
              "      <td>18.4760</td>\n",
              "      <td>90.00</td>\n",
              "      <td>90.000</td>\n",
              "      <td>120.000</td>\n",
              "      <td>2512.50</td>\n",
              "      <td>P -6c -2c</td>\n",
              "    </tr>\n",
              "    <tr>\n",
              "      <th>2</th>\n",
              "      <td>1501627</td>\n",
              "      <td>[In].[O-]C(=O)C1=C[C]=CC(=C1)C(=O)[O-] MOFid-v...</td>\n",
              "      <td>In.GZJYHAYPVZNUJX.MOFkey-v1.sql</td>\n",
              "      <td>['[In]']</td>\n",
              "      <td>['[O-]C(=O)C1=C[C]=CC(=C1)C(=O)[O-]']</td>\n",
              "      <td>[In].[O-]C(=O)C1=C[C]=CC(=C1)C(=O)[O-]</td>\n",
              "      <td>sql</td>\n",
              "      <td>1.0</td>\n",
              "      <td>9.9532</td>\n",
              "      <td>9.9532</td>\n",
              "      <td>26.7005</td>\n",
              "      <td>90.00</td>\n",
              "      <td>90.000</td>\n",
              "      <td>90.000</td>\n",
              "      <td>2645.12</td>\n",
              "      <td>-P 4c 2</td>\n",
              "    </tr>\n",
              "    <tr>\n",
              "      <th>3</th>\n",
              "      <td>1501629</td>\n",
              "      <td>[In].[O-]C(=O)c1cc(cc(c1)C(=O)[O-])c1c(F)c(F)c...</td>\n",
              "      <td>In.TYPODEXFRPHZNH.MOFkey-v1.pts</td>\n",
              "      <td>['[In]']</td>\n",
              "      <td>['[O-]C(=O)c1cc(cc(c1)C(=O)[O-])c1c(F)c(F)c(c(...</td>\n",
              "      <td>[In].[O-]C(=O)c1cc(cc(c1)C(=O)[O-])c1c(F)c(F)c...</td>\n",
              "      <td>pts,tfi</td>\n",
              "      <td>0.0</td>\n",
              "      <td>19.8070</td>\n",
              "      <td>19.8070</td>\n",
              "      <td>53.4540</td>\n",
              "      <td>90.00</td>\n",
              "      <td>90.000</td>\n",
              "      <td>90.000</td>\n",
              "      <td>20971.00</td>\n",
              "      <td>-I 4bd 2c</td>\n",
              "    </tr>\n",
              "    <tr>\n",
              "      <th>4</th>\n",
              "      <td>1501771</td>\n",
              "      <td>[O-]C(=O)c1cc(cc(c1)C(=O)[O-])C(=O)[O-].[O][Zn...</td>\n",
              "      <td>Zn.QMKYBPDZANOJGF.MOFkey-v1.tbo</td>\n",
              "      <td>['[O][Zn][Zn][O]']</td>\n",
              "      <td>['[O-]C(=O)c1cc(cc(c1)C(=O)[O-])C(=O)[O-]']</td>\n",
              "      <td>[O-]C(=O)c1cc(cc(c1)C(=O)[O-])C(=O)[O-].[O][Zn...</td>\n",
              "      <td>tbo</td>\n",
              "      <td>0.0</td>\n",
              "      <td>26.4461</td>\n",
              "      <td>26.4461</td>\n",
              "      <td>26.4461</td>\n",
              "      <td>90.00</td>\n",
              "      <td>90.000</td>\n",
              "      <td>90.000</td>\n",
              "      <td>18496.30</td>\n",
              "      <td>-F 4 2 3</td>\n",
              "    </tr>\n",
              "    <tr>\n",
              "      <th>...</th>\n",
              "      <td>...</td>\n",
              "      <td>...</td>\n",
              "      <td>...</td>\n",
              "      <td>...</td>\n",
              "      <td>...</td>\n",
              "      <td>...</td>\n",
              "      <td>...</td>\n",
              "      <td>...</td>\n",
              "      <td>...</td>\n",
              "      <td>...</td>\n",
              "      <td>...</td>\n",
              "      <td>...</td>\n",
              "      <td>...</td>\n",
              "      <td>...</td>\n",
              "      <td>...</td>\n",
              "      <td>...</td>\n",
              "    </tr>\n",
              "    <tr>\n",
              "      <th>1552</th>\n",
              "      <td>8000359</td>\n",
              "      <td>C1CN2CCN1CC2.[O-]C(=O)c1ccc(cc1)C(=O)[O-].[OH4...</td>\n",
              "      <td>Co.IMNIMPAHZVJRPE.KKEYFWRCBNTPAC.MOFkey-v1.sql</td>\n",
              "      <td>['[OH4][Co]']</td>\n",
              "      <td>['C1CN2CCN1CC2', '[O-]C(=O)c1ccc(cc1)C(=O)[O-]']</td>\n",
              "      <td>C1CN2CCN1CC2.[O-]C(=O)c1ccc(cc1)C(=O)[O-].[OH4...</td>\n",
              "      <td>sql</td>\n",
              "      <td>0.0</td>\n",
              "      <td>6.0947</td>\n",
              "      <td>7.0901</td>\n",
              "      <td>10.6768</td>\n",
              "      <td>90.00</td>\n",
              "      <td>95.090</td>\n",
              "      <td>90.000</td>\n",
              "      <td>459.55</td>\n",
              "      <td>P -2y</td>\n",
              "    </tr>\n",
              "    <tr>\n",
              "      <th>1553</th>\n",
              "      <td>8000369</td>\n",
              "      <td>C1CN2CCN1CC2.[O-]C(=O)c1ccc(cc1)C(=O)[O-].[O][...</td>\n",
              "      <td>Co.IMNIMPAHZVJRPE.KKEYFWRCBNTPAC.MOFkey-v1.sql</td>\n",
              "      <td>['[O][Co]']</td>\n",
              "      <td>['C1CN2CCN1CC2', '[O-]C(=O)c1ccc(cc1)C(=O)[O-]']</td>\n",
              "      <td>C1CN2CCN1CC2.[O-]C(=O)c1ccc(cc1)C(=O)[O-].[O][Co]</td>\n",
              "      <td>sql</td>\n",
              "      <td>0.0</td>\n",
              "      <td>6.0764</td>\n",
              "      <td>7.0959</td>\n",
              "      <td>10.7040</td>\n",
              "      <td>90.00</td>\n",
              "      <td>95.196</td>\n",
              "      <td>90.000</td>\n",
              "      <td>459.63</td>\n",
              "      <td>P -2y</td>\n",
              "    </tr>\n",
              "    <tr>\n",
              "      <th>1554</th>\n",
              "      <td>8000378</td>\n",
              "      <td>[C]1CN2CCN1CC2.[O-]C(=O)c1ccc(cc1)C(=O)[O-].[O...</td>\n",
              "      <td>Co.HSRAEJMOSDMCJG.KKEYFWRCBNTPAC.MOFkey-v1.sql</td>\n",
              "      <td>['[OH2][Co]']</td>\n",
              "      <td>['[C]1CN2CCN1CC2', '[O-]C(=O)c1ccc(cc1)C(=O)[O...</td>\n",
              "      <td>[C]1CN2CCN1CC2.[O-]C(=O)c1ccc(cc1)C(=O)[O-].[O...</td>\n",
              "      <td>sql</td>\n",
              "      <td>0.0</td>\n",
              "      <td>5.8426</td>\n",
              "      <td>7.0452</td>\n",
              "      <td>10.5850</td>\n",
              "      <td>90.43</td>\n",
              "      <td>96.620</td>\n",
              "      <td>94.933</td>\n",
              "      <td>431.13</td>\n",
              "      <td>P 1</td>\n",
              "    </tr>\n",
              "    <tr>\n",
              "      <th>1555</th>\n",
              "      <td>8000387</td>\n",
              "      <td>[CH2]N1CCN(CC1)[CH2].[O-]C(=O)c1ccc(cc1)C(=O)[...</td>\n",
              "      <td>Co.KKEYFWRCBNTPAC.ZMSCWVAQRXZYLJ.MOFkey-v1.sql</td>\n",
              "      <td>['[OH2][Co]']</td>\n",
              "      <td>['[CH2]N1CCN(CC1)[CH2]', '[O-]C(=O)c1ccc(cc1)C...</td>\n",
              "      <td>[CH2]N1CCN(CC1)[CH2].[O-]C(=O)c1ccc(cc1)C(=O)[...</td>\n",
              "      <td>sql</td>\n",
              "      <td>0.0</td>\n",
              "      <td>6.1150</td>\n",
              "      <td>7.1238</td>\n",
              "      <td>10.6610</td>\n",
              "      <td>90.00</td>\n",
              "      <td>94.830</td>\n",
              "      <td>90.000</td>\n",
              "      <td>462.80</td>\n",
              "      <td>P -2y</td>\n",
              "    </tr>\n",
              "    <tr>\n",
              "      <th>1556</th>\n",
              "      <td>8000505</td>\n",
              "      <td>[O-]C(=O)c1ccc(cc1)C#Cc1c(F)c(F)c(c(c1F)F)C#Cc...</td>\n",
              "      <td>Zr.GWMVLZWFBCMCOR.MOFkey-v1.fcu</td>\n",
              "      <td>['[O]123[O]45[Zr]6789%101[O]1%11[O]%126[Zr]6%1...</td>\n",
              "      <td>['[O-]C(=O)c1ccc(cc1)C#Cc1c(F)c(F)c(c(c1F)F)C#...</td>\n",
              "      <td>[O-]C(=O)c1ccc(cc1)C#Cc1c(F)c(F)c(c(c1F)F)C#Cc...</td>\n",
              "      <td>fcu</td>\n",
              "      <td>1.0</td>\n",
              "      <td>39.8460</td>\n",
              "      <td>39.8460</td>\n",
              "      <td>39.8460</td>\n",
              "      <td>90.00</td>\n",
              "      <td>90.000</td>\n",
              "      <td>90.000</td>\n",
              "      <td>63264.00</td>\n",
              "      <td>-F 4vw 2vw 3</td>\n",
              "    </tr>\n",
              "  </tbody>\n",
              "</table>\n",
              "<p>1557 rows × 16 columns</p>\n",
              "</div>"
            ],
            "text/plain": [
              "      cifname                                              mofid  \\\n",
              "0     1100140  Cl[Cu]O[Cu]O[Cu]Cl.O=[C]1=NC=CC=N1.n1ccc(cc1)c...   \n",
              "1     1100722  [Fe][O]([Fe])[Fe].[O-]C(=O)c1ccc(cc1)C(=O)[O-]...   \n",
              "2     1501627  [In].[O-]C(=O)C1=C[C]=CC(=C1)C(=O)[O-] MOFid-v...   \n",
              "3     1501629  [In].[O-]C(=O)c1cc(cc(c1)C(=O)[O-])c1c(F)c(F)c...   \n",
              "4     1501771  [O-]C(=O)c1cc(cc(c1)C(=O)[O-])C(=O)[O-].[O][Zn...   \n",
              "...       ...                                                ...   \n",
              "1552  8000359  C1CN2CCN1CC2.[O-]C(=O)c1ccc(cc1)C(=O)[O-].[OH4...   \n",
              "1553  8000369  C1CN2CCN1CC2.[O-]C(=O)c1ccc(cc1)C(=O)[O-].[O][...   \n",
              "1554  8000378  [C]1CN2CCN1CC2.[O-]C(=O)c1ccc(cc1)C(=O)[O-].[O...   \n",
              "1555  8000387  [CH2]N1CCN(CC1)[CH2].[O-]C(=O)c1ccc(cc1)C(=O)[...   \n",
              "1556  8000505  [O-]C(=O)c1ccc(cc1)C#Cc1c(F)c(F)c(c(c1F)F)C#Cc...   \n",
              "\n",
              "                                              mofkey  \\\n",
              "0     Cu.BSACTHHIMKWVLX.MWVTWFVJZLCBMC.MOFkey-v1.hxl   \n",
              "1                    Fe.KKEYFWRCBNTPAC.MOFkey-v1.acs   \n",
              "2                    In.GZJYHAYPVZNUJX.MOFkey-v1.sql   \n",
              "3                    In.TYPODEXFRPHZNH.MOFkey-v1.pts   \n",
              "4                    Zn.QMKYBPDZANOJGF.MOFkey-v1.tbo   \n",
              "...                                              ...   \n",
              "1552  Co.IMNIMPAHZVJRPE.KKEYFWRCBNTPAC.MOFkey-v1.sql   \n",
              "1553  Co.IMNIMPAHZVJRPE.KKEYFWRCBNTPAC.MOFkey-v1.sql   \n",
              "1554  Co.HSRAEJMOSDMCJG.KKEYFWRCBNTPAC.MOFkey-v1.sql   \n",
              "1555  Co.KKEYFWRCBNTPAC.ZMSCWVAQRXZYLJ.MOFkey-v1.sql   \n",
              "1556                 Zr.GWMVLZWFBCMCOR.MOFkey-v1.fcu   \n",
              "\n",
              "                                          simples_nodes  \\\n",
              "0                                ['Cl[Cu]O[Cu]O[Cu]Cl']   \n",
              "1                                 ['[Fe][O]([Fe])[Fe]']   \n",
              "2                                              ['[In]']   \n",
              "3                                              ['[In]']   \n",
              "4                                    ['[O][Zn][Zn][O]']   \n",
              "...                                                 ...   \n",
              "1552                                      ['[OH4][Co]']   \n",
              "1553                                        ['[O][Co]']   \n",
              "1554                                      ['[OH2][Co]']   \n",
              "1555                                      ['[OH2][Co]']   \n",
              "1556  ['[O]123[O]45[Zr]6789%101[O]1%11[O]%126[Zr]6%1...   \n",
              "\n",
              "                                        simples_linkers  \\\n",
              "0             ['O=[C]1=NC=CC=N1', 'n1ccc(cc1)c1ccncc1']   \n",
              "1                      ['[O-]C(=O)c1ccc(cc1)C(=O)[O-]']   \n",
              "2                 ['[O-]C(=O)C1=C[C]=CC(=C1)C(=O)[O-]']   \n",
              "3     ['[O-]C(=O)c1cc(cc(c1)C(=O)[O-])c1c(F)c(F)c(c(...   \n",
              "4           ['[O-]C(=O)c1cc(cc(c1)C(=O)[O-])C(=O)[O-]']   \n",
              "...                                                 ...   \n",
              "1552   ['C1CN2CCN1CC2', '[O-]C(=O)c1ccc(cc1)C(=O)[O-]']   \n",
              "1553   ['C1CN2CCN1CC2', '[O-]C(=O)c1ccc(cc1)C(=O)[O-]']   \n",
              "1554  ['[C]1CN2CCN1CC2', '[O-]C(=O)c1ccc(cc1)C(=O)[O...   \n",
              "1555  ['[CH2]N1CCN(CC1)[CH2]', '[O-]C(=O)c1ccc(cc1)C...   \n",
              "1556  ['[O-]C(=O)c1ccc(cc1)C#Cc1c(F)c(F)c(c(c1F)F)C#...   \n",
              "\n",
              "                                                simples topology  cat  \\\n",
              "0     Cl[Cu]O[Cu]O[Cu]Cl.O=[C]1=NC=CC=N1.n1ccc(cc1)c...      hxl  1.0   \n",
              "1        [Fe][O]([Fe])[Fe].[O-]C(=O)c1ccc(cc1)C(=O)[O-]      acs  0.0   \n",
              "2                [In].[O-]C(=O)C1=C[C]=CC(=C1)C(=O)[O-]      sql  1.0   \n",
              "3     [In].[O-]C(=O)c1cc(cc(c1)C(=O)[O-])c1c(F)c(F)c...  pts,tfi  0.0   \n",
              "4     [O-]C(=O)c1cc(cc(c1)C(=O)[O-])C(=O)[O-].[O][Zn...      tbo  0.0   \n",
              "...                                                 ...      ...  ...   \n",
              "1552  C1CN2CCN1CC2.[O-]C(=O)c1ccc(cc1)C(=O)[O-].[OH4...      sql  0.0   \n",
              "1553  C1CN2CCN1CC2.[O-]C(=O)c1ccc(cc1)C(=O)[O-].[O][Co]      sql  0.0   \n",
              "1554  [C]1CN2CCN1CC2.[O-]C(=O)c1ccc(cc1)C(=O)[O-].[O...      sql  0.0   \n",
              "1555  [CH2]N1CCN(CC1)[CH2].[O-]C(=O)c1ccc(cc1)C(=O)[...      sql  0.0   \n",
              "1556  [O-]C(=O)c1ccc(cc1)C#Cc1c(F)c(F)c(c(c1F)F)C#Cc...      fcu  1.0   \n",
              "\n",
              "            a        b        c  alpha    beta    gamma  cell volume  \\\n",
              "0     17.0760  19.3410  13.4810  90.00  90.000   90.000      4452.30   \n",
              "1     12.5310  12.5310  18.4760  90.00  90.000  120.000      2512.50   \n",
              "2      9.9532   9.9532  26.7005  90.00  90.000   90.000      2645.12   \n",
              "3     19.8070  19.8070  53.4540  90.00  90.000   90.000     20971.00   \n",
              "4     26.4461  26.4461  26.4461  90.00  90.000   90.000     18496.30   \n",
              "...       ...      ...      ...    ...     ...      ...          ...   \n",
              "1552   6.0947   7.0901  10.6768  90.00  95.090   90.000       459.55   \n",
              "1553   6.0764   7.0959  10.7040  90.00  95.196   90.000       459.63   \n",
              "1554   5.8426   7.0452  10.5850  90.43  96.620   94.933       431.13   \n",
              "1555   6.1150   7.1238  10.6610  90.00  94.830   90.000       462.80   \n",
              "1556  39.8460  39.8460  39.8460  90.00  90.000   90.000     63264.00   \n",
              "\n",
              "       space group  \n",
              "0          P 2 -2n  \n",
              "1        P -6c -2c  \n",
              "2          -P 4c 2  \n",
              "3        -I 4bd 2c  \n",
              "4         -F 4 2 3  \n",
              "...            ...  \n",
              "1552         P -2y  \n",
              "1553         P -2y  \n",
              "1554           P 1  \n",
              "1555         P -2y  \n",
              "1556  -F 4vw 2vw 3  \n",
              "\n",
              "[1557 rows x 16 columns]"
            ]
          },
          "execution_count": 2,
          "metadata": {},
          "output_type": "execute_result"
        }
      ],
      "source": [
        "data_sym = pd.read_csv('../cleaner/5k_with_symmetry.csv')\n",
        "data_sym = data_sym.rename(columns={'_cell_length_a': 'a', '_cell_length_b': 'b', '_cell_length_c': 'c', '_cell_angle_alpha':'alpha', '_cell_angle_beta':'beta','_cell_angle_gamma': 'gamma','_cell_volume':'cell volume','_symmetry_space_group_name_Hall':'space group'})\n",
        "data_sym"
      ]
    },
    {
      "cell_type": "code",
      "execution_count": null,
      "metadata": {
        "id": "sTofDNq5FQ8a"
      },
      "outputs": [],
      "source": []
    },
    {
      "cell_type": "markdown",
      "metadata": {
        "id": "lHNSziajvWrW"
      },
      "source": [
        "(10.03.23) Ишу уникальные значения, а также аномлии обработки. Итог: есть повторяшки. Что самое интересное Mofkey и mofid показывают разные результаты. Чему верить?!"
      ]
    },
    {
      "cell_type": "code",
      "execution_count": 3,
      "metadata": {
        "colab": {
          "base_uri": "https://localhost:8080/"
        },
        "id": "ZeYPuP7uvgBY",
        "outputId": "24a7ff18-b3d9-44b6-e866-08e8b37531a0"
      },
      "outputs": [
        {
          "data": {
            "text/plain": [
              "Ag.CBMYFVSIIYILRH.MOFkey-v1.ths                                  10\n",
              "Zn.KGBJURCYTWEKPT.MOFkey-v1.ggl                                   8\n",
              "Cu.GZJYHAYPVZNUJX.MOFkey-v1.kgm                                   7\n",
              "Th.VUYFKAXNJXFNFA.MOFkey-v1.bcu                                   6\n",
              "Ag.MWVTWFVJZLCBMC.MOFkey-v1.sql                                   5\n",
              "                                                                 ..\n",
              "Cu.HMPUVKXKHRDNLY.JEVCWSUVFOYBFI.MOFkey-v1.pcu                    1\n",
              "Tb.LFWKRDQARSZNBX.UECUXWUFCHIWNX.MOFkey-v1.pcu                    1\n",
              "Gd.WIOZZYWDYUOMAY.MOFkey-v1.pcu                                   1\n",
              "Eu.IIOLEWRVDYKXAN.RHFSRTQXETUEBB.UORVCLMRJXCDCP.MOFkey-v1.sql     1\n",
              "Zr.GWMVLZWFBCMCOR.MOFkey-v1.fcu                                   1\n",
              "Name: mofkey, Length: 1322, dtype: int64"
            ]
          },
          "execution_count": 3,
          "metadata": {},
          "output_type": "execute_result"
        }
      ],
      "source": [
        "data_sym.mofkey.value_counts()"
      ]
    },
    {
      "cell_type": "code",
      "execution_count": 4,
      "metadata": {
        "colab": {
          "base_uri": "https://localhost:8080/"
        },
        "id": "uvyBm8jMvfI9",
        "outputId": "87398af1-0ad3-4f24-c6b2-3d0450629772"
      },
      "outputs": [
        {
          "data": {
            "text/plain": [
              "CC(C(=O)[O-])C(=O)[O-].[OH2][Zn] MOFid-v1.pcu.cat1                                                                                                                                                                                                                                                                                                                                                                                                                                                                                                                                                                                                                                                                                                                                                                                                                                                                                                                                                                                                                                                                                                                                                                                                                                                                                                                                                                                                                                                                                                                   2\n",
              "[Cu][Cu].[O-]C(=O)CCCC(=O)[O-].n1ccc(cc1)c1ccncc1 MOFid-v1.ggl.cat0                                                                                                                                                                                                                                                                                                                                                                                                                                                                                                                                                                                                                                                                                                                                                                                                                                                                                                                                                                                                                                                                                                                                                                                                                                                                                                                                                                                                                                                                                                  2\n",
              "[Ag].n1ccc(cc1)C1=NC(=[N]=C([N]1)c1ccncc1)c1ccncc1 MOFid-v1.ths.cat3                                                                                                                                                                                                                                                                                                                                                                                                                                                                                                                                                                                                                                                                                                                                                                                                                                                                                                                                                                                                                                                                                                                                                                                                                                                                                                                                                                                                                                                                                                 2\n",
              "O=C1c2ccc(cc2)Oc2cc3Oc4ccc(C(=O)[O]56[Co]789%10[O]%111[Co]1%12%135[O]7[Co]6%11([O]81)([O]9%12)[O]%10%13C(=O)c1ccc(cc1)Oc(c2)c3)cc4.[Co] MOFid-v1.kgd.cat1                                                                                                                                                                                                                                                                                                                                                                                                                                                                                                                                                                                                                                                                                                                                                                                                                                                                                                                                                                                                                                                                                                                                                                                                                                                                                                                                                                                                            2\n",
              "Cl[Cu]O[Cu]O[Cu]Cl.O=[C]1=NC=CC=N1.n1ccc(cc1)c1ccncc1 MOFid-v1.hxl.cat1                                                                                                                                                                                                                                                                                                                                                                                                                                                                                                                                                                                                                                                                                                                                                                                                                                                                                                                                                                                                                                                                                                                                                                                                                                                                                                                                                                                                                                                                                              1\n",
              "                                                                                                                                                                                                                                                                                                                                                                                                                                                                                                                                                                                                                                                                                                                                                                                                                                                                                                                                                                                                                                                                                                                                                                                                                                                                                                                                                                                                                                                                                                                                                                    ..\n",
              "NC(C(=O)NC(C(=O)[O-])Cc1ccccc1)Cc1ccccc1.[Ni] MOFid-v1.fes.cat0                                                                                                                                                                                                                                                                                                                                                                                                                                                                                                                                                                                                                                                                                                                                                                                                                                                                                                                                                                                                                                                                                                                                                                                                                                                                                                                                                                                                                                                                                                      1\n",
              "Oc1c(cc(c(c1c1c(O)c(cc(c1O)c1ccc2c(c1)ccc(c2)C(=O)[O-])c1ccc2c(c1)ccc(c2)C(=O)[O-])O)c1ccc2c(c1)ccc(c2)C(=O)[O-])c1ccc2c(c1)ccc(c2)C(=O)[O-].[O][Zr]123([O])[O]4[Zr]56[O]3[Zr]37([O]2[Zr]28[O]1[Zr]14([O]6[Zr]([O]53)([O]21)([O]78)([O])[O])([O])[O])([O])[O] MOFid-v1.pto.cat0                                                                                                                                                                                                                                                                                                                                                                                                                                                                                                                                                                                                                                                                                                                                                                                                                                                                                                                                                                                                                                                                                                                                                                                                                                                                                      1\n",
              "[Cu][Cu].[O-]C(=O)c1cccc(c1)[N][N]c1cccc(c1)C(=O)[O-] MOFid-v1.fcu.cat0                                                                                                                                                                                                                                                                                                                                                                                                                                                                                                                                                                                                                                                                                                                                                                                                                                                                                                                                                                                                                                                                                                                                                                                                                                                                                                                                                                                                                                                                                              1\n",
              "[Cu].[O-]C(=O)c1ccc(cc1)c1c(c2ccc(cc2)C(=O)[O-])c(c2ccc(cc2)C(=O)[O-])c(c(c1c1ccc(cc1)C(=O)[O-])c1ccc(cc1)C(=O)[O-])c1ccc(cc1)C(=O)[O-] MOFid-v1.kgd.cat1                                                                                                                                                                                                                                                                                                                                                                                                                                                                                                                                                                                                                                                                                                                                                                                                                                                                                                                                                                                                                                                                                                                                                                                                                                                                                                                                                                                                            1\n",
              "[O-]C(=O)c1ccc(cc1)C#Cc1c(F)c(F)c(c(c1F)F)C#Cc1ccc(cc1)C(=O)[O-].[O]123[O]45[Zr]6789%101[O]1%11[O]%126[Zr]6%13%14%15%161[O]1%17[O]%186[Zr]6%19%20%21%221[O]1%23[O]%246[Zr]6%25241([O]17[O]86[Zr]2%11%12%23%241[O]%13%19[O]%14%202)[O]1%21[O]%22%25[Zr]235%17%181[O]9%15[O]%10%162.[O]123[O]45[Zr]6789%101[O]1%11[O]%126[Zr]6%13%14%15%161[O]1%17[O]%186[Zr]6%19%20%21%221[O]1%23[O]%246[Zr]6%25241([O]19[O]%106[Zr]24%23%241([O]7%13[O]8%142)[O]%15%19[O]%16%204)[O]1%21[O]%22%25[Zr]35%11%12%17%181.[O]123[O]45[Zr]6789%101[O]1%11[O]%126[Zr]6%13%14%15%161[O]1%17[O]%186[Zr]6%19%20%21%221[O]1%23[O]%246[Zr]6%25351([O]17[O]86[Zr]3%11%12%23%241[O]%13%19[O]%14%203)[O]1%21[O]%22%25[Zr]324%17%181[O]9%15[O]%10%163.[O]123[O]45[Zr]6789%101[O]1%11[O]%126[Zr]6%13%14%15%161[O]1%17[O]%186[Zr]6%19241([O]12[O]46[Zr]6%20%21%17%181[O]1%17[O]%186[Zr]6%22%11%121([O]17[O]86[Zr]3524%17%181)[O]%13%20[O]%14%21%22)[O]9%15[O]%10%16%19.[O]123[O]45[Zr]6789%101[O]1%11[O]%126[Zr]6%13%14%15%161[O]1%17[O]%186[Zr]6%19241([O]12[O]46[Zr]6%20%21%17%181[O]1%17[O]%186[Zr]635241[O]17[O]86[Zr]2%11%12%17%181[O]%13%20[O]%14%212)[O]9%15[O]%10%16%19.[O]123[O]45[Zr]6789%101[O]1%11[O]%126[Zr]6%13%14%15%161[O]1%17[O]%186[Zr]6%19241([O]12[O]46[Zr]6%20%21351[O]13[O]56[Zr]6%17%18241[O]1%13[O]%146[Zr]2%11%12351[O]7%20[O]8%212)[O]9%15[O]%10%16%19.[O]123[O]45[Zr]6789%101[O]1%11[O]%126[Zr]6%13%14%15%161[O]17[O]86[Zr]678351[O]1%13[O]%146[Zr]356%13%141[O]1%17[O]%183[Zr]3%19%11%121([O]%155[O]%1663)[O]19[O]%10%19[Zr]324%17%181[O]7%13[O]8%143 MOFid-v1.fcu.cat1    1\n",
              "Name: mofid, Length: 1553, dtype: int64"
            ]
          },
          "execution_count": 4,
          "metadata": {},
          "output_type": "execute_result"
        }
      ],
      "source": [
        "data_sym.mofid.value_counts()"
      ]
    },
    {
      "cell_type": "markdown",
      "metadata": {
        "id": "l0Nscz66yUC4"
      },
      "source": [
        "(10.03.23) Выделяю отдельные уникальные названия\n"
      ]
    },
    {
      "cell_type": "code",
      "execution_count": 5,
      "metadata": {
        "colab": {
          "base_uri": "https://localhost:8080/"
        },
        "id": "CEi4phq6yTMP",
        "outputId": "349f8443-bc60-4fe1-e458-5747908f64e9"
      },
      "outputs": [
        {
          "name": "stdout",
          "output_type": "stream",
          "text": [
            "1322 - unique numbers of mofkey / 1557 - all data\n",
            "1553 - unique numbers of mofid / 1557 - all data\n"
          ]
        }
      ],
      "source": [
        "unique_mofkey = data_sym.mofkey.unique()\n",
        "unique_mofid =  data_sym.mofid.unique()\n",
        "print(f'{len(unique_mofkey)} - unique numbers of mofkey / {len(data_sym.mofkey)} - all data')\n",
        "print(f'{len(unique_mofid)} - unique numbers of mofid / {len(data_sym.mofkey)} - all data')"
      ]
    },
    {
      "cell_type": "markdown",
      "metadata": {
        "id": "aou8MyYiyUdI"
      },
      "source": [
        "#Часть с кодом нейронки"
      ]
    },
    {
      "cell_type": "markdown",
      "metadata": {
        "id": "arEyQjZuiGQz"
      },
      "source": [
        "(05.03.23) Начал предварительно расписывать код нейросети. Прочитал и внедрил Comet ML. В моменты отладки кода она выключена, когда будут данные и отлажена работа кода - она будет включена чтобы сохранять, что мы делем и что меняется.\n",
        "\n",
        "(07.03.23) Появились данные, думаю как их запихать в нейронку"
      ]
    },
    {
      "cell_type": "code",
      "execution_count": 6,
      "metadata": {
        "id": "Ecn8MyFxlRJs"
      },
      "outputs": [],
      "source": [
        "# Import comet_ml at the top of your file\n",
        "from comet_ml import Experiment\n",
        "\n",
        "import numpy as np\n",
        "import tensorflow as tf\n",
        "import tensorflow_hub as hub\n",
        "import tensorflow_datasets as tfds\n"
      ]
    },
    {
      "cell_type": "code",
      "execution_count": 7,
      "metadata": {
        "colab": {
          "base_uri": "https://localhost:8080/"
        },
        "id": "8orjR5eW6JZC",
        "outputId": "fe34a039-edbd-4839-9768-3a7a25caa7ec"
      },
      "outputs": [
        {
          "name": "stdout",
          "output_type": "stream",
          "text": [
            "Model: \"model\"\n",
            "_________________________________________________________________\n",
            " Layer (type)                Output Shape              Param #   \n",
            "=================================================================\n",
            " input (InputLayer)          [(None, 10)]              0         \n",
            "                                                                 \n",
            " hidden_layer1 (Dense)       (None, 256)               2816      \n",
            "                                                                 \n",
            " dropout (Dropout)           (None, 256)               0         \n",
            "                                                                 \n",
            " output (Dense)              (None, 10)                2570      \n",
            "                                                                 \n",
            "=================================================================\n",
            "Total params: 5,386\n",
            "Trainable params: 5,386\n",
            "Non-trainable params: 0\n",
            "_________________________________________________________________\n"
          ]
        }
      ],
      "source": [
        "# Create an experiment with your api key\n",
        "# experiment = Experiment(\n",
        "#     api_key=\"UuFjopsJ4VxcDdjpWUg3UG5Pz\",\n",
        "#     project_name=\"test\",\n",
        "#     workspace=\"darime\",\n",
        "# )\n",
        "\n",
        "# Create model \n",
        "\n",
        "input = tf.keras.Input(shape = (10,), name = 'input')\n",
        "hidden1 = tf.keras.layers.Dense(256,\n",
        "                         name = 'hidden_layer1',\n",
        "                         activation = tf.nn.relu)(input)\n",
        "dropout = tf.keras.layers.Dropout(0.3, name = 'dropout')(hidden1)\n",
        "# hidden2 = tf.keras.Dense(shape = (20,),\n",
        "#                          activation = 'relu',\n",
        "#                          name = 'hidden_layer2')(dropout)\n",
        "\n",
        "# hidden3 = tf.keras.Dense(shape = (5,),\n",
        "#                          activation = 'relu',\n",
        "#                          name = 'hidden_layer3')(hidden2)\n",
        "output = tf.keras.layers.Dense(10, \n",
        "                         activation = tf.nn.softmax,\n",
        "                         name = 'output')(dropout)\n",
        "\n",
        "model_test = tf.keras.Model(inputs=input,\n",
        "                            outputs=output)\n",
        "\n",
        "model_test.summary()\n",
        "\n",
        "\n",
        "\n",
        "\n"
      ]
    },
    {
      "cell_type": "code",
      "execution_count": 8,
      "metadata": {
        "id": "hGkO6_3tL9TH"
      },
      "outputs": [],
      "source": [
        "model_test.compile(optimizer = 'Adam' ,loss = 'mse')"
      ]
    },
    {
      "cell_type": "code",
      "execution_count": null,
      "metadata": {
        "id": "kILnvgj0MW-O"
      },
      "outputs": [],
      "source": []
    }
  ],
  "metadata": {
    "colab": {
      "provenance": []
    },
    "kernelspec": {
      "display_name": "Python 3",
      "name": "python3"
    },
    "language_info": {
      "codemirror_mode": {
        "name": "ipython",
        "version": 3
      },
      "file_extension": ".py",
      "mimetype": "text/x-python",
      "name": "python",
      "nbconvert_exporter": "python",
      "pygments_lexer": "ipython3",
      "version": "3.10.11"
    }
  },
  "nbformat": 4,
  "nbformat_minor": 0
}
